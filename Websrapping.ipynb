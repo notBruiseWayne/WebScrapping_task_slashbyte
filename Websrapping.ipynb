{
 "cells": [
  {
   "cell_type": "code",
   "execution_count": 15,
   "id": "71ff2503",
   "metadata": {},
   "outputs": [],
   "source": [
    "import csv\n",
    "import requests\n",
    "from bs4 import BeautifulSoup\n",
    "import pandas as pd\n",
    "import time\n",
    "import random"
   ]
  },
  {
   "cell_type": "code",
   "execution_count": 16,
   "id": "b1ee1d2c",
   "metadata": {},
   "outputs": [
    {
     "name": "stdout",
     "output_type": "stream",
     "text": [
      "<Response [200]>\n"
     ]
    }
   ],
   "source": [
    "url='https://www.realtor.com/realestateandhomes-search/San-Francisco_CA'\n",
    "#we can put the pagnation numbers like \"/pg02\" and so on if we \n",
    "headers={\n",
    "    'User-Agent': 'Mozilla/5.0 (Macintosh; Intel Mac OS X 10_15_7) AppleWebKit/537.36 (KHTML, like Gecko) Chrome/109.0.0.0 Safari/537.36',\n",
    " 'Accept': 'text/html,application/xhtml+xml,application/xml;q=0.9,image/avif,image/webp,image/apng,*/*;q=0.8,application/signed-exchange;v=b3;q=0.9',\n",
    " 'Accept-Language': 'en-US,en;q=0.9',\n",
    " 'Accept-Encoding': 'gzip, deflate, br'\n",
    "}\n",
    "response=requests.get(url,headers=headers)\n",
    "print(response)\n",
    "if response.status_code==200:\n",
    "    #print('continue')\n",
    "    soup = BeautifulSoup(response.content, 'html.parser')\n",
    "\n",
    "    \n",
    "    property_titles = soup.find_all('div', class_=\"truncate-line\")  \n",
    "    property_prices = soup.find_all('div', class_=\"Pricestyles__StyledPrice-rui__btk3ge-0 bvgLFe card-price\")  \n",
    "    property_urls = soup.find_all('a', class_=\"LinkComponent_anchor__0C2xC\")  \n",
    "\n",
    "    \n",
    "    titles = []\n",
    "    prices = []\n",
    "    urls = []\n",
    "    \n",
    "    for title, price, url in zip(property_titles, property_prices, property_urls):\n",
    "        titles.append(title.get_text(strip=True))\n",
    "        prices.append(price.get_text(strip=True))\n",
    "        urls.append(url['href'])\n",
    "    \n",
    "    data = {'Property Title': titles, 'Property Price': prices, 'Property URL': urls}\n",
    "    properties_df = pd.DataFrame(data)\n",
    "   \n",
    "    delay = random.uniform(1, 3)\n",
    "    time.sleep(delay)# to overome the bloking from the site if multiple pages are to scraped\n",
    "    \n",
    "elif response.status_code == 403:\n",
    "        print('Bot activity detected by website')\n",
    "         \n",
    "else:\n",
    "        print('Failed to retrieve the page')\n",
    "           \n",
    "\n",
    "\n",
    "    "
   ]
  },
  {
   "cell_type": "code",
   "execution_count": 17,
   "id": "deb3664c",
   "metadata": {},
   "outputs": [
    {
     "data": {
      "text/html": [
       "<div>\n",
       "<style scoped>\n",
       "    .dataframe tbody tr th:only-of-type {\n",
       "        vertical-align: middle;\n",
       "    }\n",
       "\n",
       "    .dataframe tbody tr th {\n",
       "        vertical-align: top;\n",
       "    }\n",
       "\n",
       "    .dataframe thead th {\n",
       "        text-align: right;\n",
       "    }\n",
       "</style>\n",
       "<table border=\"1\" class=\"dataframe\">\n",
       "  <thead>\n",
       "    <tr style=\"text-align: right;\">\n",
       "      <th></th>\n",
       "      <th>Property Title</th>\n",
       "      <th>Property Price</th>\n",
       "      <th>Property URL</th>\n",
       "    </tr>\n",
       "  </thead>\n",
       "  <tbody>\n",
       "    <tr>\n",
       "      <th>0</th>\n",
       "      <td>74 New Montgomery St Unit 317San Francisco, CA...</td>\n",
       "      <td>$361,677</td>\n",
       "      <td>/realestateandhomes-detail/74-New-Montgomery-S...</td>\n",
       "    </tr>\n",
       "    <tr>\n",
       "      <th>1</th>\n",
       "      <td>74 New Montgomery St Unit 317</td>\n",
       "      <td>$25,000,000</td>\n",
       "      <td>/realestateandhomes-detail/74-New-Montgomery-S...</td>\n",
       "    </tr>\n",
       "    <tr>\n",
       "      <th>2</th>\n",
       "      <td>San Francisco, CA 94105</td>\n",
       "      <td>$599,500</td>\n",
       "      <td>/realestateandhomes-detail/540-El-Camino-Del-M...</td>\n",
       "    </tr>\n",
       "    <tr>\n",
       "      <th>3</th>\n",
       "      <td>540 El Camino Del Mar StSan Francisco, CA 94121</td>\n",
       "      <td>$19,800,000</td>\n",
       "      <td>/realestateandhomes-detail/540-El-Camino-Del-M...</td>\n",
       "    </tr>\n",
       "    <tr>\n",
       "      <th>4</th>\n",
       "      <td>540 El Camino Del Mar St</td>\n",
       "      <td>$1,000,000</td>\n",
       "      <td>/realestateandhomes-detail/1947-Fulton-St_San-...</td>\n",
       "    </tr>\n",
       "  </tbody>\n",
       "</table>\n",
       "</div>"
      ],
      "text/plain": [
       "                                      Property Title Property Price  \\\n",
       "0  74 New Montgomery St Unit 317San Francisco, CA...       $361,677   \n",
       "1                      74 New Montgomery St Unit 317    $25,000,000   \n",
       "2                            San Francisco, CA 94105       $599,500   \n",
       "3    540 El Camino Del Mar StSan Francisco, CA 94121    $19,800,000   \n",
       "4                           540 El Camino Del Mar St     $1,000,000   \n",
       "\n",
       "                                        Property URL  \n",
       "0  /realestateandhomes-detail/74-New-Montgomery-S...  \n",
       "1  /realestateandhomes-detail/74-New-Montgomery-S...  \n",
       "2  /realestateandhomes-detail/540-El-Camino-Del-M...  \n",
       "3  /realestateandhomes-detail/540-El-Camino-Del-M...  \n",
       "4  /realestateandhomes-detail/1947-Fulton-St_San-...  "
      ]
     },
     "execution_count": 17,
     "metadata": {},
     "output_type": "execute_result"
    }
   ],
   "source": [
    "properties_df.head()"
   ]
  },
  {
   "cell_type": "code",
   "execution_count": 12,
   "id": "6c2e1e32",
   "metadata": {},
   "outputs": [
    {
     "name": "stdout",
     "output_type": "stream",
     "text": [
      "Data saved to realtor_properties.csv\n"
     ]
    }
   ],
   "source": [
    " #CSV\n",
    "csv_filename = 'realtor_properties.csv'\n",
    "properties_df.to_csv(csv_filename, index=False)\n",
    "print(f\"Data saved to {csv_filename}\")"
   ]
  },
  {
   "cell_type": "code",
   "execution_count": null,
   "id": "aa144381",
   "metadata": {},
   "outputs": [],
   "source": [
    "#<div class=\"Pricestyles__StyledPrice-rui__btk3ge-0 bvgLFe card-price\" data-testid=\"card-price\">$361,677</div>\n",
    "#<div class=\"truncate-line\" data-testid=\"card-address-1\">74 New Montgomery St Unit 317</div>\n",
    "#<a class=\"LinkComponent_anchor__0C2xC\" tabindex=\"0\" role=\"link\" rel=\"noopener\" target=\"_self\" aria-label=\"Details for 74 New Montgomery St Unit 317\" href=\"/realestateandhomes-detail/74-New-Montgomery-St-Unit-317_San-Francisco_CA_94105_M26727-17479?from=srp-list-card\"></a>"
   ]
  }
 ],
 "metadata": {
  "kernelspec": {
   "display_name": "Python 3 (ipykernel)",
   "language": "python",
   "name": "python3"
  },
  "language_info": {
   "codemirror_mode": {
    "name": "ipython",
    "version": 3
   },
   "file_extension": ".py",
   "mimetype": "text/x-python",
   "name": "python",
   "nbconvert_exporter": "python",
   "pygments_lexer": "ipython3",
   "version": "3.9.12"
  }
 },
 "nbformat": 4,
 "nbformat_minor": 5
}
